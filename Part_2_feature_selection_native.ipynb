{
 "cells": [
  {
   "cell_type": "markdown",
   "metadata": {},
   "source": [
    "##### Jupyter Notebook, Step 2 - Identify Features\n",
    "- Build feature selection pipelines using at least three different techniques\n",
    "- **NOTE**: these pipelines are being used for feature selection not prediction"
   ]
  },
  {
   "cell_type": "markdown",
   "metadata": {},
   "source": [
    "##### Jupyter Notebook, Step 2 - Identify Features\n",
    "- Build feature selection pipelines using at least three different techniques\n",
    "- **NOTE**: these pipelines are being used for feature selection not prediction\n",
    "For this portion of the project I will investigate important features in the madelon dataset. \n",
    "\n",
    "One method I will use will be unsupervised learning with a DecisionTreeRegressor against every feature. I will show that this method solves madelon. \n",
    "\n",
    "Second and third, I will use other approaches to attempt to reach the same result as I reach using unsupervised learning, such as SelectKBest and SelectFromModel. "
   ]
  },
  {
   "cell_type": "code",
   "execution_count": null,
   "metadata": {
    "collapsed": true
   },
   "outputs": [],
   "source": [
    "import csv\n",
    "from IPython.display import display\n",
    "import numpy as np\n",
    "import pandas as pd\n",
    "import matplotlib.pyplot as plt\n",
    "%matplotlib inline\n",
    "\n",
    "madelon_file ='madelon_train.csv'\n",
    "madelon_data = []        \n",
    "\n",
    "with open(madelon_file) as f:\n",
    "    readcsv = csv.reader(f, delimiter=' ')\n",
    "    \n",
    "    for row in readcsv:\n",
    "        madelon_data.append(row)\n",
    "        \n",
    "madelon_file_target ='madelon_train_targets.csv'\n",
    "madelon_data_target = []        \n",
    "\n",
    "with open(madelon_file_target) as f:\n",
    "    readcsv = csv.reader(f, delimiter=' ')\n",
    "    \n",
    "    for row in readcsv:\n",
    "        madelon_data_target.append(row)\n",
    "        \n",
    "madelon1 = madelon_data[0:200]\n",
    "\n",
    "madelon_data_df = pd.DataFrame(madelon1)\n",
    "madelon_targets_df = pd.DataFrame(madelon_data_target[0:200])\n",
    "\n",
    "X = madelon_data_df\n",
    "y = madelon_targets_df"
   ]
  },
  {
   "cell_type": "code",
   "execution_count": null,
   "metadata": {
    "collapsed": true
   },
   "outputs": [],
   "source": [
    "from sklearn.linear_model import LogisticRegression\n",
    "from sklearn.neighbors import KNeighborsRegressor\n",
    "from sklearn import tree\n",
    "from sklearn.model_selection import train_test_split\n",
    "from sklearn.preprocessing import StandardScaler"
   ]
  },
  {
   "cell_type": "code",
   "execution_count": null,
   "metadata": {
    "collapsed": true
   },
   "outputs": [],
   "source": [
    "y = X['y']\n",
    "X = X.drop(['y'], axis=1)"
   ]
  },
  {
   "cell_type": "code",
   "execution_count": null,
   "metadata": {
    "collapsed": true
   },
   "outputs": [],
   "source": [
    "y.head()"
   ]
  },
  {
   "cell_type": "code",
   "execution_count": null,
   "metadata": {
    "collapsed": true
   },
   "outputs": [],
   "source": []
  }
 ],
 "metadata": {
  "kernelspec": {
   "display_name": "Python 3",
   "language": "python",
   "name": "python3"
  },
  "language_info": {
   "codemirror_mode": {
    "name": "ipython",
    "version": 3
   },
   "file_extension": ".py",
   "mimetype": "text/x-python",
   "name": "python",
   "nbconvert_exporter": "python",
   "pygments_lexer": "ipython3",
   "version": "3.6.2"
  }
 },
 "nbformat": 4,
 "nbformat_minor": 2
}
