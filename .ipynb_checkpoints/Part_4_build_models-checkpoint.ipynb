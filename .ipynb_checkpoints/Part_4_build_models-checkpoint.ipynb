{
 "cells": [
  {
   "cell_type": "markdown",
   "metadata": {},
   "source": [
    "For this notebook, I will simply download 200,000 rows from Josh's database server, selecting only the 20 rows I found to be informative. I will load my pickled, prefit standard scaler, pca, and voting classifier and test it on the data. "
   ]
  },
  {
   "cell_type": "code",
   "execution_count": 16,
   "metadata": {
    "collapsed": true
   },
   "outputs": [],
   "source": [
    "from tqdm import tqdm\n",
    "import psycopg2 as pg2\n",
    "from psycopg2.extras import RealDictCursor\n",
    "import pandas as pd\n",
    "import pickle\n",
    "from sklearn.externals import joblib\n",
    "from sklearn.preprocessing import StandardScaler\n",
    "from sklearn.ensemble import VotingClassifier\n",
    "from sklearn.decomposition import PCA"
   ]
  },
  {
   "cell_type": "code",
   "execution_count": 4,
   "metadata": {},
   "outputs": [
    {
     "data": {
      "text/plain": [
       "[['feat_257', 0.48885988681021347],\n",
       " ['feat_269', 0.55368127493783093],\n",
       " ['feat_308', 0.31454295404360233],\n",
       " ['feat_315', 0.73546577604917074],\n",
       " ['feat_336', 0.69337820342894474],\n",
       " ['feat_341', 0.62144839816190611],\n",
       " ['feat_395', 0.63479630273013954],\n",
       " ['feat_504', 0.40896058230504628],\n",
       " ['feat_526', 0.21032540438036473],\n",
       " ['feat_639', 0.84227343387442299],\n",
       " ['feat_681', 0.47442578506922012],\n",
       " ['feat_701', 0.76280481035288283],\n",
       " ['feat_724', 0.52833368594341357],\n",
       " ['feat_736', 0.60555953875298307],\n",
       " ['feat_769', 0.43235716767371635],\n",
       " ['feat_808', 0.47998839978887853],\n",
       " ['feat_829', 0.58253418729726647],\n",
       " ['feat_867', 0.63503139250910301],\n",
       " ['feat_920', 0.64267634615223335],\n",
       " ['feat_956', 0.93082504050825332]]"
      ]
     },
     "execution_count": 4,
     "metadata": {},
     "output_type": "execute_result"
    }
   ],
   "source": [
    "with open('supports_sql.pkl', 'rb') as f:\n",
    "    supports_sql_data = pickle.load(f)\n",
    "    \n",
    "supports_sql_data"
   ]
  },
  {
   "cell_type": "code",
   "execution_count": 12,
   "metadata": {},
   "outputs": [
    {
     "name": "stderr",
     "output_type": "stream",
     "text": [
      "200it [00:02, 72.61it/s]\n"
     ]
    },
    {
     "data": {
      "text/plain": [
       "(200000, 21)"
      ]
     },
     "execution_count": 12,
     "metadata": {},
     "output_type": "execute_result"
    }
   ],
   "source": [
    "results = pd.DataFrame()\n",
    "conn = pg2.connect(host='34.211.227.227',\n",
    "                  dbname='postgres',\n",
    "                  user='postgres')\n",
    "chunks = pd.read_sql('SELECT feat_257, feat_269, feat_308, feat_315, feat_336, feat_341, feat_395, feat_504, feat_526, feat_639, feat_681, feat_701, feat_724, feat_736, feat_769, feat_808, feat_289, feat_867, feat_920, feat_956, target FROM madelon LIMIT 200000', con=conn, chunksize=1000)\n",
    "\n",
    "for chunk in tqdm(chunks):\n",
    "    results = pd.concat([results, chunk])\n",
    "    \n",
    "conn.close()\n",
    "results.shape"
   ]
  },
  {
   "cell_type": "code",
   "execution_count": 11,
   "metadata": {},
   "outputs": [],
   "source": [
    "vc = joblib.load('trained_sql_voting.pkl') "
   ]
  },
  {
   "cell_type": "code",
   "execution_count": 17,
   "metadata": {
    "collapsed": true
   },
   "outputs": [],
   "source": [
    "ss = joblib.load('trained_ss.pkl') \n",
    "pca = joblib.load('trained_pca.pkl') "
   ]
  },
  {
   "cell_type": "code",
   "execution_count": 13,
   "metadata": {},
   "outputs": [
    {
     "data": {
      "text/html": [
       "<div>\n",
       "<table border=\"1\" class=\"dataframe\">\n",
       "  <thead>\n",
       "    <tr style=\"text-align: right;\">\n",
       "      <th></th>\n",
       "      <th>feat_257</th>\n",
       "      <th>feat_269</th>\n",
       "      <th>feat_308</th>\n",
       "      <th>feat_315</th>\n",
       "      <th>feat_336</th>\n",
       "      <th>feat_341</th>\n",
       "      <th>feat_395</th>\n",
       "      <th>feat_504</th>\n",
       "      <th>feat_526</th>\n",
       "      <th>feat_639</th>\n",
       "      <th>...</th>\n",
       "      <th>feat_701</th>\n",
       "      <th>feat_724</th>\n",
       "      <th>feat_736</th>\n",
       "      <th>feat_769</th>\n",
       "      <th>feat_808</th>\n",
       "      <th>feat_289</th>\n",
       "      <th>feat_867</th>\n",
       "      <th>feat_920</th>\n",
       "      <th>feat_956</th>\n",
       "      <th>target</th>\n",
       "    </tr>\n",
       "  </thead>\n",
       "  <tbody>\n",
       "    <tr>\n",
       "      <th>0</th>\n",
       "      <td>1.268510</td>\n",
       "      <td>1.100327</td>\n",
       "      <td>0.808065</td>\n",
       "      <td>-0.162348</td>\n",
       "      <td>0.498678</td>\n",
       "      <td>0.905715</td>\n",
       "      <td>-0.898710</td>\n",
       "      <td>-0.427231</td>\n",
       "      <td>0.421104</td>\n",
       "      <td>0.375471</td>\n",
       "      <td>...</td>\n",
       "      <td>-1.045727</td>\n",
       "      <td>0.694095</td>\n",
       "      <td>-0.337126</td>\n",
       "      <td>-0.238718</td>\n",
       "      <td>-0.869943</td>\n",
       "      <td>-0.158674</td>\n",
       "      <td>0.388876</td>\n",
       "      <td>-1.264211</td>\n",
       "      <td>0.655058</td>\n",
       "      <td>0</td>\n",
       "    </tr>\n",
       "    <tr>\n",
       "      <th>1</th>\n",
       "      <td>1.497988</td>\n",
       "      <td>-4.486392</td>\n",
       "      <td>-2.243278</td>\n",
       "      <td>-1.311590</td>\n",
       "      <td>-2.465838</td>\n",
       "      <td>-7.991995</td>\n",
       "      <td>-5.809950</td>\n",
       "      <td>-3.361417</td>\n",
       "      <td>4.313861</td>\n",
       "      <td>-2.867202</td>\n",
       "      <td>...</td>\n",
       "      <td>0.349573</td>\n",
       "      <td>7.441926</td>\n",
       "      <td>-2.051211</td>\n",
       "      <td>5.059433</td>\n",
       "      <td>-1.735171</td>\n",
       "      <td>-0.370133</td>\n",
       "      <td>0.186190</td>\n",
       "      <td>2.433228</td>\n",
       "      <td>-2.143739</td>\n",
       "      <td>0</td>\n",
       "    </tr>\n",
       "    <tr>\n",
       "      <th>2</th>\n",
       "      <td>0.910799</td>\n",
       "      <td>-1.669930</td>\n",
       "      <td>-1.120405</td>\n",
       "      <td>-0.716501</td>\n",
       "      <td>1.208455</td>\n",
       "      <td>0.053892</td>\n",
       "      <td>-0.007378</td>\n",
       "      <td>1.281943</td>\n",
       "      <td>-0.063514</td>\n",
       "      <td>1.371888</td>\n",
       "      <td>...</td>\n",
       "      <td>1.340307</td>\n",
       "      <td>0.910467</td>\n",
       "      <td>0.518999</td>\n",
       "      <td>0.834698</td>\n",
       "      <td>-0.481042</td>\n",
       "      <td>1.396629</td>\n",
       "      <td>-1.086776</td>\n",
       "      <td>0.389866</td>\n",
       "      <td>1.039064</td>\n",
       "      <td>1</td>\n",
       "    </tr>\n",
       "    <tr>\n",
       "      <th>3</th>\n",
       "      <td>1.690808</td>\n",
       "      <td>-4.695848</td>\n",
       "      <td>0.297013</td>\n",
       "      <td>-3.332952</td>\n",
       "      <td>1.110229</td>\n",
       "      <td>-0.942208</td>\n",
       "      <td>-1.200048</td>\n",
       "      <td>1.267919</td>\n",
       "      <td>-1.505501</td>\n",
       "      <td>2.567033</td>\n",
       "      <td>...</td>\n",
       "      <td>4.732013</td>\n",
       "      <td>2.243154</td>\n",
       "      <td>-1.128869</td>\n",
       "      <td>0.696805</td>\n",
       "      <td>-0.245607</td>\n",
       "      <td>1.764082</td>\n",
       "      <td>-2.294287</td>\n",
       "      <td>1.790720</td>\n",
       "      <td>2.450330</td>\n",
       "      <td>1</td>\n",
       "    </tr>\n",
       "    <tr>\n",
       "      <th>4</th>\n",
       "      <td>-1.285227</td>\n",
       "      <td>3.004038</td>\n",
       "      <td>-0.105143</td>\n",
       "      <td>1.789468</td>\n",
       "      <td>1.374735</td>\n",
       "      <td>4.050445</td>\n",
       "      <td>3.629429</td>\n",
       "      <td>1.871478</td>\n",
       "      <td>-1.503431</td>\n",
       "      <td>0.920246</td>\n",
       "      <td>...</td>\n",
       "      <td>-1.223593</td>\n",
       "      <td>-4.192102</td>\n",
       "      <td>2.027421</td>\n",
       "      <td>-2.186803</td>\n",
       "      <td>0.815951</td>\n",
       "      <td>0.041115</td>\n",
       "      <td>0.113583</td>\n",
       "      <td>-1.316552</td>\n",
       "      <td>0.335011</td>\n",
       "      <td>0</td>\n",
       "    </tr>\n",
       "  </tbody>\n",
       "</table>\n",
       "<p>5 rows × 21 columns</p>\n",
       "</div>"
      ],
      "text/plain": [
       "   feat_257  feat_269  feat_308  feat_315  feat_336  feat_341  feat_395  \\\n",
       "0  1.268510  1.100327  0.808065 -0.162348  0.498678  0.905715 -0.898710   \n",
       "1  1.497988 -4.486392 -2.243278 -1.311590 -2.465838 -7.991995 -5.809950   \n",
       "2  0.910799 -1.669930 -1.120405 -0.716501  1.208455  0.053892 -0.007378   \n",
       "3  1.690808 -4.695848  0.297013 -3.332952  1.110229 -0.942208 -1.200048   \n",
       "4 -1.285227  3.004038 -0.105143  1.789468  1.374735  4.050445  3.629429   \n",
       "\n",
       "   feat_504  feat_526  feat_639   ...    feat_701  feat_724  feat_736  \\\n",
       "0 -0.427231  0.421104  0.375471   ...   -1.045727  0.694095 -0.337126   \n",
       "1 -3.361417  4.313861 -2.867202   ...    0.349573  7.441926 -2.051211   \n",
       "2  1.281943 -0.063514  1.371888   ...    1.340307  0.910467  0.518999   \n",
       "3  1.267919 -1.505501  2.567033   ...    4.732013  2.243154 -1.128869   \n",
       "4  1.871478 -1.503431  0.920246   ...   -1.223593 -4.192102  2.027421   \n",
       "\n",
       "   feat_769  feat_808  feat_289  feat_867  feat_920  feat_956  target  \n",
       "0 -0.238718 -0.869943 -0.158674  0.388876 -1.264211  0.655058       0  \n",
       "1  5.059433 -1.735171 -0.370133  0.186190  2.433228 -2.143739       0  \n",
       "2  0.834698 -0.481042  1.396629 -1.086776  0.389866  1.039064       1  \n",
       "3  0.696805 -0.245607  1.764082 -2.294287  1.790720  2.450330       1  \n",
       "4 -2.186803  0.815951  0.041115  0.113583 -1.316552  0.335011       0  \n",
       "\n",
       "[5 rows x 21 columns]"
      ]
     },
     "execution_count": 13,
     "metadata": {},
     "output_type": "execute_result"
    }
   ],
   "source": [
    "results.head()"
   ]
  },
  {
   "cell_type": "code",
   "execution_count": 28,
   "metadata": {
    "collapsed": true
   },
   "outputs": [],
   "source": [
    "X = results.drop('target', axis=1)\n",
    "y = results['target']"
   ]
  },
  {
   "cell_type": "code",
   "execution_count": 30,
   "metadata": {},
   "outputs": [
    {
     "data": {
      "text/plain": [
       "(200000, 20)"
      ]
     },
     "execution_count": 30,
     "metadata": {},
     "output_type": "execute_result"
    }
   ],
   "source": [
    "X.shape"
   ]
  },
  {
   "cell_type": "code",
   "execution_count": 31,
   "metadata": {},
   "outputs": [],
   "source": [
    "X_ss = ss.transform(X)\n",
    "X_pca = pca.transform(X_ss)"
   ]
  },
  {
   "cell_type": "code",
   "execution_count": 32,
   "metadata": {},
   "outputs": [
    {
     "data": {
      "text/plain": [
       "(200000, 5)"
      ]
     },
     "execution_count": 32,
     "metadata": {},
     "output_type": "execute_result"
    }
   ],
   "source": [
    "X_pca.shape"
   ]
  },
  {
   "cell_type": "code",
   "execution_count": 33,
   "metadata": {},
   "outputs": [
    {
     "data": {
      "text/plain": [
       "0.78393500000000005"
      ]
     },
     "execution_count": 33,
     "metadata": {},
     "output_type": "execute_result"
    }
   ],
   "source": [
    "vc.score(X_pca, y)"
   ]
  }
 ],
 "metadata": {
  "kernelspec": {
   "display_name": "Python 3",
   "language": "python",
   "name": "python3"
  },
  "language_info": {
   "codemirror_mode": {
    "name": "ipython",
    "version": 3
   },
   "file_extension": ".py",
   "mimetype": "text/x-python",
   "name": "python",
   "nbconvert_exporter": "python",
   "pygments_lexer": "ipython3",
   "version": "3.6.2"
  }
 },
 "nbformat": 4,
 "nbformat_minor": 2
}
